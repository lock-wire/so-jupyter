{
 "cells": [
  {
   "cell_type": "markdown",
   "id": "ed223337-2ee1-4855-a2a7-dbb645e852cb",
   "metadata": {},
   "source": [
    "# Security Onion DNS"
   ]
  },
  {
   "cell_type": "markdown",
   "id": "33dc0246-e90e-42e4-9847-927123256723",
   "metadata": {
    "editable": true,
    "slideshow": {
     "slide_type": ""
    },
    "tags": []
   },
   "source": [
    "## Import Python Modules"
   ]
  },
  {
   "cell_type": "code",
   "execution_count": 1,
   "id": "14988de3-74fb-46d1-9d48-fdfa97f52643",
   "metadata": {},
   "outputs": [],
   "source": [
    "from elasticsearch import Elasticsearch\n",
    "from elasticsearch_dsl import Q, Search\n",
    "import pandas as pd"
   ]
  },
  {
   "cell_type": "markdown",
   "id": "3b5d54eb-1b9f-4261-bb66-e37796de01bc",
   "metadata": {},
   "source": [
    "### Suppress Certificate Warning for Self-Signed Cert"
   ]
  },
  {
   "cell_type": "code",
   "execution_count": 2,
   "id": "89c7596d-d854-4f06-9ae4-fb3214d179cc",
   "metadata": {},
   "outputs": [],
   "source": [
    "import urllib3\n",
    "urllib3.disable_warnings(category=urllib3.exceptions.InsecureRequestWarning)"
   ]
  },
  {
   "cell_type": "markdown",
   "id": "ea31c59e-2bb5-48a2-ae2e-14e654ee4721",
   "metadata": {},
   "source": [
    "### Initialize Search Client"
   ]
  },
  {
   "cell_type": "code",
   "execution_count": 3,
   "id": "3022b2b9-137b-48f1-8f28-6500e77abce8",
   "metadata": {},
   "outputs": [
    {
     "name": "stderr",
     "output_type": "stream",
     "text": [
      "/opt/conda/lib/python3.11/site-packages/elasticsearch/_sync/client/__init__.py:400: SecurityWarning: Connecting to 'https://172.20.2.10:9200' using TLS with verify_certs=False is insecure\n",
      "  _transport = transport_class(\n"
     ]
    }
   ],
   "source": [
    "es = Elasticsearch(['https://172.20.2.10:9200'],\n",
    "ca_certs=False,verify_certs=False, basic_auth=('jupyter','seconion'))\n",
    "searchContext = Search(using=es, index='.ds-logs-*', doc_type='doc')"
   ]
  },
  {
   "cell_type": "markdown",
   "id": "12791284-fb2e-46a3-bfdf-da4233fc6fb0",
   "metadata": {},
   "source": [
    "### Prepare Search Query"
   ]
  },
  {
   "cell_type": "code",
   "execution_count": 13,
   "id": "79c76365-c3f7-4861-a268-fda68c44cd90",
   "metadata": {},
   "outputs": [],
   "source": [
    "q = Q('terms', tags=['dns']) & Q('range', **{'@timestamp': {'gte': 'now-24h', 'lt': 'now'}})\n",
    "#f = \n",
    "src = ('@timestamp', 'source.ip', 'source.port', 'destination.ip', 'destination.port', 'dns.query.name', 'dns.query.type_name', 'dns.response.code_name')\n",
    "s = searchContext.query(q).source(src)#.filter(f)"
   ]
  },
  {
   "cell_type": "markdown",
   "id": "143cb86c-9587-4384-a548-ec454acf2903",
   "metadata": {},
   "source": [
    "### Query and build dataset for DNS events"
   ]
  },
  {
   "cell_type": "code",
   "execution_count": 14,
   "id": "03018627-4a6a-4673-a850-66166cef56b7",
   "metadata": {},
   "outputs": [
    {
     "data": {
      "text/html": [
       "<div>\n",
       "<style scoped>\n",
       "    .dataframe tbody tr th:only-of-type {\n",
       "        vertical-align: middle;\n",
       "    }\n",
       "\n",
       "    .dataframe tbody tr th {\n",
       "        vertical-align: top;\n",
       "    }\n",
       "\n",
       "    .dataframe thead th {\n",
       "        text-align: right;\n",
       "    }\n",
       "</style>\n",
       "<table border=\"1\" class=\"dataframe\">\n",
       "  <thead>\n",
       "    <tr style=\"text-align: right;\">\n",
       "      <th></th>\n",
       "      <th>@timestamp</th>\n",
       "      <th>dns.query.type_name</th>\n",
       "      <th>dns.query.name</th>\n",
       "      <th>dns.response.code_name</th>\n",
       "      <th>destination.port</th>\n",
       "      <th>destination.ip</th>\n",
       "      <th>source.port</th>\n",
       "      <th>source.ip</th>\n",
       "    </tr>\n",
       "  </thead>\n",
       "  <tbody>\n",
       "    <tr>\n",
       "      <th>0</th>\n",
       "      <td>2024-09-24T18:52:24.784Z</td>\n",
       "      <td>HTTPS</td>\n",
       "      <td>ssl.gstatic.com</td>\n",
       "      <td>NOERROR</td>\n",
       "      <td>53.0</td>\n",
       "      <td>1.0.0.1</td>\n",
       "      <td>53840.0</td>\n",
       "      <td>172.20.2.2</td>\n",
       "    </tr>\n",
       "    <tr>\n",
       "      <th>1</th>\n",
       "      <td>2024-09-24T18:51:46.938Z</td>\n",
       "      <td>AAAA</td>\n",
       "      <td>securityonion-managersearch.local</td>\n",
       "      <td>NaN</td>\n",
       "      <td>5353.0</td>\n",
       "      <td>ff02::fb</td>\n",
       "      <td>5353.0</td>\n",
       "      <td>fe80::53f0:2dc7:ed88:dc10</td>\n",
       "    </tr>\n",
       "    <tr>\n",
       "      <th>2</th>\n",
       "      <td>2024-09-24T18:52:35.382Z</td>\n",
       "      <td>A</td>\n",
       "      <td>otx.alienvault.com</td>\n",
       "      <td>NOERROR</td>\n",
       "      <td>53.0</td>\n",
       "      <td>8.8.8.8</td>\n",
       "      <td>48452.0</td>\n",
       "      <td>172.20.2.10</td>\n",
       "    </tr>\n",
       "    <tr>\n",
       "      <th>3</th>\n",
       "      <td>2024-09-24T18:52:35.382Z</td>\n",
       "      <td>AAAA</td>\n",
       "      <td>otx.alienvault.com</td>\n",
       "      <td>NOERROR</td>\n",
       "      <td>53.0</td>\n",
       "      <td>8.8.8.8</td>\n",
       "      <td>35007.0</td>\n",
       "      <td>172.20.2.10</td>\n",
       "    </tr>\n",
       "    <tr>\n",
       "      <th>4</th>\n",
       "      <td>2024-09-24T18:52:08.012Z</td>\n",
       "      <td>HTTPS</td>\n",
       "      <td>www.google.com</td>\n",
       "      <td>NaN</td>\n",
       "      <td>53.0</td>\n",
       "      <td>1.0.0.1</td>\n",
       "      <td>57810.0</td>\n",
       "      <td>172.20.2.2</td>\n",
       "    </tr>\n",
       "    <tr>\n",
       "      <th>...</th>\n",
       "      <td>...</td>\n",
       "      <td>...</td>\n",
       "      <td>...</td>\n",
       "      <td>...</td>\n",
       "      <td>...</td>\n",
       "      <td>...</td>\n",
       "      <td>...</td>\n",
       "      <td>...</td>\n",
       "    </tr>\n",
       "    <tr>\n",
       "      <th>51949</th>\n",
       "      <td>2024-09-23T20:49:36.719Z</td>\n",
       "      <td>A</td>\n",
       "      <td>v10.events.data.microsoft.com</td>\n",
       "      <td>NOERROR</td>\n",
       "      <td>53.0</td>\n",
       "      <td>172.20.3.1</td>\n",
       "      <td>61316.0</td>\n",
       "      <td>172.20.3.19</td>\n",
       "    </tr>\n",
       "    <tr>\n",
       "      <th>51950</th>\n",
       "      <td>2024-09-23T20:49:32.244Z</td>\n",
       "      <td>PTR</td>\n",
       "      <td>_microsoft_mcc._tcp.local</td>\n",
       "      <td>NaN</td>\n",
       "      <td>5353.0</td>\n",
       "      <td>ff02::fb</td>\n",
       "      <td>5353.0</td>\n",
       "      <td>fe80::53f0:2dc7:ed88:dc10</td>\n",
       "    </tr>\n",
       "    <tr>\n",
       "      <th>51951</th>\n",
       "      <td>2024-09-23T20:49:40.382Z</td>\n",
       "      <td>A</td>\n",
       "      <td>edge.skype.com</td>\n",
       "      <td>NOERROR</td>\n",
       "      <td>53.0</td>\n",
       "      <td>172.20.3.1</td>\n",
       "      <td>51536.0</td>\n",
       "      <td>172.20.3.19</td>\n",
       "    </tr>\n",
       "    <tr>\n",
       "      <th>51952</th>\n",
       "      <td>2024-09-23T20:49:33.235Z</td>\n",
       "      <td>PTR</td>\n",
       "      <td>_microsoft_mcc._tcp.local</td>\n",
       "      <td>NaN</td>\n",
       "      <td>5353.0</td>\n",
       "      <td>224.0.0.251</td>\n",
       "      <td>5353.0</td>\n",
       "      <td>172.20.2.98</td>\n",
       "    </tr>\n",
       "    <tr>\n",
       "      <th>51953</th>\n",
       "      <td>2024-09-23T20:49:39.118Z</td>\n",
       "      <td>HTTPS</td>\n",
       "      <td>clients6.google.com</td>\n",
       "      <td>NOERROR</td>\n",
       "      <td>53.0</td>\n",
       "      <td>1.0.0.1</td>\n",
       "      <td>47508.0</td>\n",
       "      <td>172.20.2.2</td>\n",
       "    </tr>\n",
       "  </tbody>\n",
       "</table>\n",
       "<p>51954 rows × 8 columns</p>\n",
       "</div>"
      ],
      "text/plain": [
       "                     @timestamp dns.query.type_name  \\\n",
       "0      2024-09-24T18:52:24.784Z               HTTPS   \n",
       "1      2024-09-24T18:51:46.938Z                AAAA   \n",
       "2      2024-09-24T18:52:35.382Z                   A   \n",
       "3      2024-09-24T18:52:35.382Z                AAAA   \n",
       "4      2024-09-24T18:52:08.012Z               HTTPS   \n",
       "...                         ...                 ...   \n",
       "51949  2024-09-23T20:49:36.719Z                   A   \n",
       "51950  2024-09-23T20:49:32.244Z                 PTR   \n",
       "51951  2024-09-23T20:49:40.382Z                   A   \n",
       "51952  2024-09-23T20:49:33.235Z                 PTR   \n",
       "51953  2024-09-23T20:49:39.118Z               HTTPS   \n",
       "\n",
       "                          dns.query.name dns.response.code_name  \\\n",
       "0                        ssl.gstatic.com                NOERROR   \n",
       "1      securityonion-managersearch.local                    NaN   \n",
       "2                     otx.alienvault.com                NOERROR   \n",
       "3                     otx.alienvault.com                NOERROR   \n",
       "4                         www.google.com                    NaN   \n",
       "...                                  ...                    ...   \n",
       "51949      v10.events.data.microsoft.com                NOERROR   \n",
       "51950          _microsoft_mcc._tcp.local                    NaN   \n",
       "51951                     edge.skype.com                NOERROR   \n",
       "51952          _microsoft_mcc._tcp.local                    NaN   \n",
       "51953                clients6.google.com                NOERROR   \n",
       "\n",
       "       destination.port destination.ip  source.port                  source.ip  \n",
       "0                  53.0        1.0.0.1      53840.0                 172.20.2.2  \n",
       "1                5353.0       ff02::fb       5353.0  fe80::53f0:2dc7:ed88:dc10  \n",
       "2                  53.0        8.8.8.8      48452.0                172.20.2.10  \n",
       "3                  53.0        8.8.8.8      35007.0                172.20.2.10  \n",
       "4                  53.0        1.0.0.1      57810.0                 172.20.2.2  \n",
       "...                 ...            ...          ...                        ...  \n",
       "51949              53.0     172.20.3.1      61316.0                172.20.3.19  \n",
       "51950            5353.0       ff02::fb       5353.0  fe80::53f0:2dc7:ed88:dc10  \n",
       "51951              53.0     172.20.3.1      51536.0                172.20.3.19  \n",
       "51952            5353.0    224.0.0.251       5353.0                172.20.2.98  \n",
       "51953              53.0        1.0.0.1      47508.0                 172.20.2.2  \n",
       "\n",
       "[51954 rows x 8 columns]"
      ]
     },
     "execution_count": 14,
     "metadata": {},
     "output_type": "execute_result"
    }
   ],
   "source": [
    "response = s.execute()\n",
    "if response.success():\n",
    " df = pd.json_normalize([hit.to_dict() for hit in s.scan()])\n",
    "#  df = pd.DataFrame(([d['event']['dataset'], d['process']['executable'], d['file']['target']] for d in s))\n",
    "#  df = pd.DataFrame(([d['event']['dataset'], d['@timestamp'], d['source']['ip']] for d in s))\n",
    "#  df.columns=['Dataset','Timestamp','Source.IP']\n",
    "#  df = pd.DataFrame([d.to_dict() for d in s.scan()])\n",
    "df\n",
    "#print(df)"
   ]
  },
  {
   "cell_type": "code",
   "execution_count": null,
   "id": "f97da29a-a9f6-4f61-88c0-4a253ed08dcd",
   "metadata": {},
   "outputs": [],
   "source": []
  }
 ],
 "metadata": {
  "kernelspec": {
   "display_name": "Python 3 (ipykernel)",
   "language": "python",
   "name": "python3"
  },
  "language_info": {
   "codemirror_mode": {
    "name": "ipython",
    "version": 3
   },
   "file_extension": ".py",
   "mimetype": "text/x-python",
   "name": "python",
   "nbconvert_exporter": "python",
   "pygments_lexer": "ipython3",
   "version": "3.11.10"
  }
 },
 "nbformat": 4,
 "nbformat_minor": 5
}

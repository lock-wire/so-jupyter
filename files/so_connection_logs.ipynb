{
 "cells": [
  {
   "cell_type": "markdown",
   "id": "d1e40ee4-e36a-4d63-9b08-339fa505671d",
   "metadata": {},
   "source": [
    "# Security Onion Connections"
   ]
  },
  {
   "cell_type": "markdown",
   "id": "33dc0246-e90e-42e4-9847-927123256723",
   "metadata": {
    "editable": true,
    "slideshow": {
     "slide_type": ""
    },
    "tags": []
   },
   "source": [
    "## Import Python Modules"
   ]
  },
  {
   "cell_type": "code",
   "execution_count": 1,
   "id": "14988de3-74fb-46d1-9d48-fdfa97f52643",
   "metadata": {},
   "outputs": [],
   "source": [
    "from elasticsearch import Elasticsearch\n",
    "from elasticsearch_dsl import Q, Search\n",
    "from IPython.display import HTML, display\n",
    "import pandas as pd\n",
    "import numpy as np\n",
    "import networkx as nx\n",
    "import matplotlib.pyplot as plt\n",
    "from pyvis.network import Network"
   ]
  },
  {
   "cell_type": "markdown",
   "id": "3b5d54eb-1b9f-4261-bb66-e37796de01bc",
   "metadata": {},
   "source": [
    "### Suppress Certificate Warning for Self-Signed Cert"
   ]
  },
  {
   "cell_type": "code",
   "execution_count": 2,
   "id": "89c7596d-d854-4f06-9ae4-fb3214d179cc",
   "metadata": {},
   "outputs": [],
   "source": [
    "import urllib3\n",
    "urllib3.disable_warnings(category=urllib3.exceptions.InsecureRequestWarning)"
   ]
  },
  {
   "cell_type": "markdown",
   "id": "ea31c59e-2bb5-48a2-ae2e-14e654ee4721",
   "metadata": {},
   "source": [
    "### Initialize Search Client"
   ]
  },
  {
   "cell_type": "code",
   "execution_count": 3,
   "id": "3022b2b9-137b-48f1-8f28-6500e77abce8",
   "metadata": {},
   "outputs": [
    {
     "name": "stderr",
     "output_type": "stream",
     "text": [
      "/opt/conda/lib/python3.11/site-packages/elasticsearch/_sync/client/__init__.py:400: SecurityWarning: Connecting to 'https://172.20.2.10:9200' using TLS with verify_certs=False is insecure\n",
      "  _transport = transport_class(\n"
     ]
    }
   ],
   "source": [
    "es = Elasticsearch(['https://172.20.2.10:9200'],\n",
    "ca_certs=False,verify_certs=False, basic_auth=('jupyter','seconion'))\n",
    "searchContext = Search(using=es, index='.ds-logs-*', doc_type='doc')"
   ]
  },
  {
   "cell_type": "markdown",
   "id": "12791284-fb2e-46a3-bfdf-da4233fc6fb0",
   "metadata": {},
   "source": [
    "### Prepare Search Query"
   ]
  },
  {
   "cell_type": "code",
   "execution_count": 4,
   "id": "79c76365-c3f7-4861-a268-fda68c44cd90",
   "metadata": {},
   "outputs": [],
   "source": [
    "q = Q('terms', tags=['conn']) & Q('range', **{'@timestamp': {'gte': 'now-24h', 'lt': 'now'}})\n",
    "#f =\n",
    "src = ('@timestamp', 'client.bytes', 'client.oui', 'client.ip', 'source.ip', 'source.port', 'destination.ip', 'destination.port', 'destination.geo.location.lat', 'destination.geo.location.lon')\n",
    "s = searchContext.query(q).source(src)#.filter(f)"
   ]
  },
  {
   "cell_type": "markdown",
   "id": "5d495290-cc57-4cd1-be83-30af839e5bf4",
   "metadata": {},
   "source": [
    "### Query and build dataset for connections"
   ]
  },
  {
   "cell_type": "code",
   "execution_count": 5,
   "id": "03018627-4a6a-4673-a850-66166cef56b7",
   "metadata": {},
   "outputs": [],
   "source": [
    "response = s.execute()\n",
    "if response.success():\n",
    "  df = pd.json_normalize([hit.to_dict() for hit in s.scan()])\n",
    "#  df = pd.DataFrame(([d['event']['dataset'], d['process']['executable'], d['file']['target']] for d in s))\n",
    "#  df = pd.DataFrame(([d['@timestamp'], d['destination']['port'], d['destination']['ip'], d['source']['port'], d['source']['ip'], d['client']['oui'], d['client']['bytes']] for d in s))\n",
    "#  df.columns=['Dataset','Timestamp','Source.IP']\n",
    "#  df = pd.DataFrame([d.to_dict() for d in s.scan()])\n",
    "#df\n",
    "#print(df)"
   ]
  },
  {
   "cell_type": "markdown",
   "id": "a2dd209e-d59f-4562-add1-5799ff653b43",
   "metadata": {},
   "source": [
    "## Quick Asset List"
   ]
  },
  {
   "cell_type": "code",
   "execution_count": 15,
   "id": "0b16ca2c-94a0-4f3d-807c-4a429bdd1a95",
   "metadata": {},
   "outputs": [
    {
     "data": {
      "text/html": [
       "<table border=\"1\" class=\"dataframe\">\n",
       "  <thead>\n",
       "    <tr style=\"text-align: right;\">\n",
       "      <th>client.ip</th>\n",
       "      <th>client.oui</th>\n",
       "    </tr>\n",
       "  </thead>\n",
       "  <tbody>\n",
       "    <tr>\n",
       "      <td>fe80::acc:a7ff:fea9:67c0</td>\n",
       "      <td>Cisco Systems, Inc</td>\n",
       "    </tr>\n",
       "    <tr>\n",
       "      <td>fe80::ca4b:d6ff:fe93:2357</td>\n",
       "      <td>Dell Inc.</td>\n",
       "    </tr>\n",
       "    <tr>\n",
       "      <td>172.20.2.5</td>\n",
       "      <td>Dell Inc.</td>\n",
       "    </tr>\n",
       "    <tr>\n",
       "      <td>fd83:3cd:ed6b::8b0</td>\n",
       "      <td>Dell Inc.</td>\n",
       "    </tr>\n",
       "    <tr>\n",
       "      <td>fe80::3bc8:acfe:2b9d:a7f3</td>\n",
       "      <td>Dell Inc.</td>\n",
       "    </tr>\n",
       "    <tr>\n",
       "      <td>172.20.2.6</td>\n",
       "      <td>Dell Inc.</td>\n",
       "    </tr>\n",
       "    <tr>\n",
       "      <td>172.20.3.3</td>\n",
       "      <td>Dell Inc.</td>\n",
       "    </tr>\n",
       "    <tr>\n",
       "      <td>172.20.3.23</td>\n",
       "      <td>Hui Zhou Gaoshengda Technology Co.,LTD</td>\n",
       "    </tr>\n",
       "    <tr>\n",
       "      <td>fe80::1acf:b950:4695:9e39</td>\n",
       "      <td>Hui Zhou Gaoshengda Technology Co.,LTD</td>\n",
       "    </tr>\n",
       "    <tr>\n",
       "      <td>172.20.3.19</td>\n",
       "      <td>Intel Corporate</td>\n",
       "    </tr>\n",
       "    <tr>\n",
       "      <td>172.20.0.13</td>\n",
       "      <td>PePWave Ltd</td>\n",
       "    </tr>\n",
       "    <tr>\n",
       "      <td>192.168.1.47</td>\n",
       "      <td>PePWave Ltd</td>\n",
       "    </tr>\n",
       "    <tr>\n",
       "      <td>192.168.1.1</td>\n",
       "      <td>Peplink International Ltd.</td>\n",
       "    </tr>\n",
       "    <tr>\n",
       "      <td>74.125.138.188</td>\n",
       "      <td>Peplink International Ltd.</td>\n",
       "    </tr>\n",
       "    <tr>\n",
       "      <td>172.16.250.52</td>\n",
       "      <td>Peplink International Ltd.</td>\n",
       "    </tr>\n",
       "    <tr>\n",
       "      <td>172.17.0.2</td>\n",
       "      <td>Peplink International Ltd.</td>\n",
       "    </tr>\n",
       "    <tr>\n",
       "      <td>136.22.108.101</td>\n",
       "      <td>Peplink International Ltd.</td>\n",
       "    </tr>\n",
       "    <tr>\n",
       "      <td>108.177.122.188</td>\n",
       "      <td>Peplink International Ltd.</td>\n",
       "    </tr>\n",
       "    <tr>\n",
       "      <td>35.207.24.140</td>\n",
       "      <td>Peplink International Ltd.</td>\n",
       "    </tr>\n",
       "    <tr>\n",
       "      <td>100.64.0.1</td>\n",
       "      <td>Peplink International Ltd.</td>\n",
       "    </tr>\n",
       "    <tr>\n",
       "      <td>172.23.251.104</td>\n",
       "      <td>Peplink International Ltd.</td>\n",
       "    </tr>\n",
       "    <tr>\n",
       "      <td>206.224.65.18</td>\n",
       "      <td>Peplink International Ltd.</td>\n",
       "    </tr>\n",
       "    <tr>\n",
       "      <td>206.224.65.32</td>\n",
       "      <td>Peplink International Ltd.</td>\n",
       "    </tr>\n",
       "    <tr>\n",
       "      <td>172.16.251.50</td>\n",
       "      <td>Peplink International Ltd.</td>\n",
       "    </tr>\n",
       "    <tr>\n",
       "      <td>192.168.1.152</td>\n",
       "      <td>Peplink International Ltd.</td>\n",
       "    </tr>\n",
       "    <tr>\n",
       "      <td>172.20.0.1</td>\n",
       "      <td>Peplink International Ltd.</td>\n",
       "    </tr>\n",
       "    <tr>\n",
       "      <td>172.20.2.1</td>\n",
       "      <td>Peplink International Ltd.</td>\n",
       "    </tr>\n",
       "    <tr>\n",
       "      <td>172.20.3.1</td>\n",
       "      <td>Peplink International Ltd.</td>\n",
       "    </tr>\n",
       "    <tr>\n",
       "      <td>142.251.241.187</td>\n",
       "      <td>Peplink International Ltd.</td>\n",
       "    </tr>\n",
       "    <tr>\n",
       "      <td>74.125.243.55</td>\n",
       "      <td>Peplink International Ltd.</td>\n",
       "    </tr>\n",
       "    <tr>\n",
       "      <td>206.224.65.23</td>\n",
       "      <td>Peplink International Ltd.</td>\n",
       "    </tr>\n",
       "    <tr>\n",
       "      <td>142.251.195.48</td>\n",
       "      <td>Peplink International Ltd.</td>\n",
       "    </tr>\n",
       "    <tr>\n",
       "      <td>206.224.65.13</td>\n",
       "      <td>Peplink International Ltd.</td>\n",
       "    </tr>\n",
       "    <tr>\n",
       "      <td>2605:59c8:63c8:9100:40c7:12ab:245a:7ec3</td>\n",
       "      <td>Proxmox Server Solutions GmbH</td>\n",
       "    </tr>\n",
       "    <tr>\n",
       "      <td>172.17.1.21</td>\n",
       "      <td>Proxmox Server Solutions GmbH</td>\n",
       "    </tr>\n",
       "    <tr>\n",
       "      <td>fd83:3cd:ed6b:0:c8dd:1418:2a3c:483a</td>\n",
       "      <td>Proxmox Server Solutions GmbH</td>\n",
       "    </tr>\n",
       "    <tr>\n",
       "      <td>2605:59c8:63c8:9100:b5b9:65d4:3d45:a693</td>\n",
       "      <td>Proxmox Server Solutions GmbH</td>\n",
       "    </tr>\n",
       "    <tr>\n",
       "      <td>172.20.2.10</td>\n",
       "      <td>Proxmox Server Solutions GmbH</td>\n",
       "    </tr>\n",
       "    <tr>\n",
       "      <td>fe80::53f0:2dc7:ed88:dc10</td>\n",
       "      <td>Proxmox Server Solutions GmbH</td>\n",
       "    </tr>\n",
       "    <tr>\n",
       "      <td>172.20.2.2</td>\n",
       "      <td>Proxmox Server Solutions GmbH</td>\n",
       "    </tr>\n",
       "    <tr>\n",
       "      <td>172.17.1.34</td>\n",
       "      <td>Proxmox Server Solutions GmbH</td>\n",
       "    </tr>\n",
       "    <tr>\n",
       "      <td>fe80::be24:11ff:fef4:cfad</td>\n",
       "      <td>Proxmox Server Solutions GmbH</td>\n",
       "    </tr>\n",
       "    <tr>\n",
       "      <td>fe80::be24:11ff:fe96:3aba</td>\n",
       "      <td>Proxmox Server Solutions GmbH</td>\n",
       "    </tr>\n",
       "    <tr>\n",
       "      <td>172.20.3.2</td>\n",
       "      <td>Proxmox Server Solutions GmbH</td>\n",
       "    </tr>\n",
       "    <tr>\n",
       "      <td>fd83:3cd:ed6b:0:40c7:12ab:245a:7ec3</td>\n",
       "      <td>Proxmox Server Solutions GmbH</td>\n",
       "    </tr>\n",
       "    <tr>\n",
       "      <td>172.20.2.155</td>\n",
       "      <td>Proxmox Server Solutions GmbH</td>\n",
       "    </tr>\n",
       "    <tr>\n",
       "      <td>172.20.2.11</td>\n",
       "      <td>Proxmox Server Solutions GmbH</td>\n",
       "    </tr>\n",
       "    <tr>\n",
       "      <td>172.20.2.98</td>\n",
       "      <td>Proxmox Server Solutions GmbH</td>\n",
       "    </tr>\n",
       "    <tr>\n",
       "      <td>172.20.3.6</td>\n",
       "      <td>Samsung Electronics Co.,Ltd</td>\n",
       "    </tr>\n",
       "    <tr>\n",
       "      <td>::</td>\n",
       "      <td>Samsung Electronics Co.,Ltd</td>\n",
       "    </tr>\n",
       "    <tr>\n",
       "      <td>192.168.1.241</td>\n",
       "      <td>Samsung Electronics Co.,Ltd</td>\n",
       "    </tr>\n",
       "    <tr>\n",
       "      <td>fe80::65e2:52be:b74a:b18c</td>\n",
       "      <td>Samsung Electronics Co.,Ltd</td>\n",
       "    </tr>\n",
       "    <tr>\n",
       "      <td>0.0.0.0</td>\n",
       "      <td>Samsung Electronics Co.,Ltd</td>\n",
       "    </tr>\n",
       "    <tr>\n",
       "      <td>fd83:3cd:ed6b::1</td>\n",
       "      <td>TIBRO Corp.</td>\n",
       "    </tr>\n",
       "    <tr>\n",
       "      <td>fe80::7624:9fff:fed6:b0f8</td>\n",
       "      <td>TIBRO Corp.</td>\n",
       "    </tr>\n",
       "    <tr>\n",
       "      <td>155.138.161.189</td>\n",
       "      <td>TIBRO Corp.</td>\n",
       "    </tr>\n",
       "    <tr>\n",
       "      <td>54.211.94.46</td>\n",
       "      <td>TIBRO Corp.</td>\n",
       "    </tr>\n",
       "    <tr>\n",
       "      <td>1.0.0.3</td>\n",
       "      <td>TIBRO Corp.</td>\n",
       "    </tr>\n",
       "    <tr>\n",
       "      <td>fe80::2d2:b1ff:fee0:d56e</td>\n",
       "      <td>TPV Display Technology (Xiamen) Co.,Ltd.</td>\n",
       "    </tr>\n",
       "    <tr>\n",
       "      <td>172.20.3.195</td>\n",
       "      <td>TPV Display Technology (Xiamen) Co.,Ltd.</td>\n",
       "    </tr>\n",
       "    <tr>\n",
       "      <td>172.20.2.95</td>\n",
       "      <td>XEROX CORPORATION</td>\n",
       "    </tr>\n",
       "    <tr>\n",
       "      <td>172.20.2.12</td>\n",
       "      <td>XEROX CORPORATION</td>\n",
       "    </tr>\n",
       "    <tr>\n",
       "      <td>255.255.255.255</td>\n",
       "      <td>unknown</td>\n",
       "    </tr>\n",
       "    <tr>\n",
       "      <td>fe80::285d:4dff:fe3d:9172</td>\n",
       "      <td>unknown</td>\n",
       "    </tr>\n",
       "    <tr>\n",
       "      <td>172.20.3.83</td>\n",
       "      <td>unknown</td>\n",
       "    </tr>\n",
       "    <tr>\n",
       "      <td>fe80::c4d3:dff:fe7e:9230</td>\n",
       "      <td>unknown</td>\n",
       "    </tr>\n",
       "  </tbody>\n",
       "</table>"
      ],
      "text/plain": [
       "<IPython.core.display.HTML object>"
      ]
     },
     "metadata": {},
     "output_type": "display_data"
    }
   ],
   "source": [
    "assets = pd.DataFrame(data=df, columns=['client.ip','client.oui'])\n",
    "#display(HTML(assets.groupby(['client.oui']).size().reset_index(name='count').sort_values(by=['client.oui']).to_html(index=False)))\n",
    "display(HTML(assets.drop_duplicates(subset=['client.ip']).sort_values(by=['client.oui']).to_html(index=False)))"
   ]
  },
  {
   "cell_type": "markdown",
   "id": "e3728a64-95c0-4e06-8cd7-d1bfb7629a49",
   "metadata": {},
   "source": [
    "## Destination Heat Map"
   ]
  },
  {
   "cell_type": "code",
   "execution_count": 9,
   "id": "0614ea7a-b903-46d3-b719-b9da215f3155",
   "metadata": {},
   "outputs": [
    {
     "data": {
      "image/png": "[encoded data removed]",
      "text/plain": [
       "<Figure size 1000x600 with 1 Axes>"
      ]
     },
     "metadata": {},
     "output_type": "display_data"
    }
   ],
   "source": [
    "geo = pd.DataFrame(data=df, columns=['destination.geo.location.lat', 'destination.geo.location.lon'])\n",
    "clean_geo = geo.dropna()\n",
    "\n",
    "from shapely.geometry import Point\n",
    "import geopandas as gpd\n",
    "from geopandas import GeoDataFrame\n",
    "import geodatasets\n",
    "\n",
    "geometry = [Point(xy) for xy in zip(clean_geo['destination.geo.location.lon'], clean_geo['destination.geo.location.lat'])]\n",
    "gdf = GeoDataFrame(clean_geo, geometry=geometry)   \n",
    "\n",
    "#this is a simple map that goes with geopandas\n",
    "# deprecated: world = gpd.read_file(gpd.datasets.get_path('naturalearth_lowres'))\n",
    "world = gpd.read_file(geodatasets.data.naturalearth.land['url'])\n",
    "gdf.plot(ax=world.plot(figsize=(10, 6)), marker='o', color='red', markersize=15);"
   ]
  },
  {
   "cell_type": "markdown",
   "id": "e91a710b-866b-4b54-991b-5299a12ec8e0",
   "metadata": {},
   "source": [
    "## Build a Node-Link Diagram"
   ]
  },
  {
   "cell_type": "code",
   "execution_count": 45,
   "id": "ff3b6fe7-3311-4b5b-a290-d1ea9f8ffdfb",
   "metadata": {},
   "outputs": [],
   "source": [
    "dst_ip = df['destination.ip']\n",
    "src_ip = df['source.ip']\n",
    "ip_concat = pd.concat([dst_ip, src_ip])\n",
    "ip_set = ip_concat.drop_duplicates()\n",
    "#ip_set"
   ]
  },
  {
   "cell_type": "code",
   "execution_count": 73,
   "id": "b137242e-5e16-4af0-96be-15c13daaf9bd",
   "metadata": {},
   "outputs": [],
   "source": [
    "ip_conn = pd.DataFrame(data=df, columns=['destination.ip','source.ip'])\n",
    "ip_weights = ip_conn.groupby(['destination.ip','source.ip']).size().reset_index(name='weight')\n",
    "ip_edge = list(ip_weights.itertuples(index=False, name=None))\n",
    "#ip_edge"
   ]
  },
  {
   "cell_type": "code",
   "execution_count": 82,
   "id": "300488b0-3c3f-4744-b6ba-f7cdb27b46e6",
   "metadata": {},
   "outputs": [],
   "source": [
    "G = nx.MultiDiGraph()\n",
    "G.add_nodes_from(ip_set)\n",
    "#G.nodes() \n",
    "G.add_weighted_edges_from(ip_edge)\n",
    "#G.edges()"
   ]
  },
  {
   "cell_type": "code",
   "execution_count": 84,
   "id": "6f68d1d3-5cb8-40fc-84c5-576abece34ee",
   "metadata": {},
   "outputs": [],
   "source": [
    "g = Network(height=\"700px\", width=\"100%\", notebook=True, select_menu=True, filter_menu=True, cdn_resources='remote')\n",
    "g.from_nx(G)\n",
    "#for node in g.get_nodes():\n",
    "#    g.get_node(node)['physics']=False\n",
    "g.toggle_hide_edges_on_drag(True)\n",
    "g.toggle_physics(True)\n",
    "g.barnes_hut()\n",
    "g.show_buttons(filter_=['physics'])\n",
    "g.save_graph('conn_last_24.html')"
   ]
  },
  {
   "cell_type": "code",
   "execution_count": null,
   "id": "1ff11609-eca4-41f3-ac89-63d1db5d1e02",
   "metadata": {},
   "outputs": [],
   "source": []
  }
 ],
 "metadata": {
  "kernelspec": {
   "display_name": "Python 3 (ipykernel)",
   "language": "python",
   "name": "python3"
  },
  "language_info": {
   "codemirror_mode": {
    "name": "ipython",
    "version": 3
   },
   "file_extension": ".py",
   "mimetype": "text/x-python",
   "name": "python",
   "nbconvert_exporter": "python",
   "pygments_lexer": "ipython3",
   "version": "3.11.10"
  }
 },
 "nbformat": 4,
 "nbformat_minor": 5
}
